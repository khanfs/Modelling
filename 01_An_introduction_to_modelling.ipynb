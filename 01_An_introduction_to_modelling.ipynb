{
  "cells": [
    {
      "cell_type": "markdown",
      "metadata": {
        "id": "view-in-github",
        "colab_type": "text"
      },
      "source": [
        "<a href=\"https://colab.research.google.com/github/khanfs/Modelling/blob/main/01_An_introduction_to_modelling.ipynb\" target=\"_parent\"><img src=\"https://colab.research.google.com/assets/colab-badge.svg\" alt=\"Open In Colab\"/></a>"
      ]
    },
    {
      "cell_type": "markdown",
      "metadata": {
        "id": "35j0KNtGq3Zg"
      },
      "source": [
        "# Session 01: An introduction to modelling"
      ]
    },
    {
      "cell_type": "markdown",
      "metadata": {
        "id": "sMdgem3Hq3Zp"
      },
      "source": [
        "## What is the point of mathematical modelling?\n",
        "> \"Mathematical models are not helpful for biology because biology is just too complex.\"\n",
        "\n",
        "Counter-arguments:\n",
        "\n",
        "- mathematics is good for predicting complex behaviours\n",
        "- emergent properties\n",
        "- cost (time)\n",
        "- cost (money)\n",
        "- systems that we couldn't otherwise access\n",
        "- systems that we couldn't otherwise record"
      ]
    },
    {
      "cell_type": "markdown",
      "metadata": {
        "collapsed": true,
        "id": "-8btyfX0q3Zu"
      },
      "source": [
        "## Aims\n",
        "\n",
        "- to predict\n",
        "- quantify\n",
        "- you can't measure everything\n",
        "- to justify expense\n",
        "- cost\n",
        "- useful\n",
        "- test\n",
        "- plan\n",
        "- ethics\n",
        "\n",
        "## Scale\n",
        "\n",
        "- quantum\n",
        "- atoms\n",
        "- angstroms\n",
        "- molecular\n",
        "- multi-molecular\n",
        "- proteins\n",
        "- multi-proteins, channels, ribosomes\n",
        "- organelles\n",
        "- cellular\n",
        "- populations of cells\n",
        "- organs/tissues\n",
        "- multi-organ\n",
        "- organisms, whole-body\n",
        "- host-parasite\n",
        "- communities\n",
        "- populations\n",
        "- interacting populations\n",
        "- ecosystems\n",
        "- planetary ecosystems\n",
        "\n",
        "## Approach\n",
        "\n",
        "- verbal / text\n",
        "- internal (brain)\n",
        "- diagrams\n",
        "- physical models (plastic kits)\n",
        "- physical models (replica)\n",
        "- statistical\n",
        "- chemical reaction schemes\n",
        "- ordinary differential equations\n",
        "- stochastic\n",
        "- partial\n",
        "- Monte-Carlo\n",
        "- algebraic equations\n",
        "- numerical/theoretical\n",
        "- logical\n",
        "- spatial\n",
        "- Markov chains, MCMC\n",
        "- rule-based\n",
        "- game of life\n",
        "- game theory\n",
        "- agent based\n",
        "- engineering\n",
        "\n",
        "## Simplifications\n",
        "\n",
        "Simplifying things that you know are true.\n",
        "\n",
        "- 1D/2D\n",
        "- assume things are small\n",
        "- ignore redundancy\n",
        "- assuming nothing else is happening\n",
        "- complexity doesn't change\n",
        "- classical physics\n",
        "\n",
        "## Assumptions\n",
        "\n",
        "Assuming things that you don't know enough about.\n",
        "\n",
        "- things distributed to normal distribution\n",
        "- assuming constant\n",
        "- consistancy\n",
        "- A interacts with B"
      ]
    },
    {
      "cell_type": "markdown",
      "metadata": {
        "collapsed": true,
        "id": "_MUUgqPPq3Z0"
      },
      "source": [
        "## Quotes\n",
        "    \n",
        "> _[T]he best material model for a cat is another, or preferably the same, cat._ -- Norbert Wiener / Arturo Rosenblueth\n",
        "\n",
        "Scope is difficult to determine, external elements will always have an influence. Organisms have different phenotypes.\n",
        "\n",
        "> _The purpose of models is not to fit the data but to sharpen the questions._ -- Samuel Karlin\n",
        ">\n",
        "> _To call in the statistician after the experiment is done may be no more than asking him to perform a post-mortem examination: he may be able to say what the experiment died of._ -- Ronald Fisher\n",
        "\n",
        "Modelling should be a component of the scientific process, and not simply a last minute addition.\n",
        "\n",
        "> _With four parameters I can fit an elephant, and with five I can make him wiggle his trunk._ -- John von Neumann\n",
        "\n",
        "'The parameter problem', given enough freedom it's easy for a system to be fitted to any data -- so how do we know the predictive power is good.\n",
        "\n",
        "> _If the difficulty of a physiological problem is mathematical in essence, ten physiologists ignorant of mathematics will get precisely as far as one physiologist ignorant of mathematics, and no further. If a physiologist who knows no mathematics works together with a mathematician who knows no physiology, the one will be unable to state his problem in term that the other can manipulate, and the second will be unable to put the answers in any form that the first can understand._ -- Norbert Wiener\n",
        "\n",
        "Communication between scientists is difficult due to different terminologies, etc."
      ]
    },
    {
      "cell_type": "markdown",
      "metadata": {
        "id": "fw73Kc4lq3Z4"
      },
      "source": [
        "## Monte-Carlo modelling\n",
        "> _Monte Carlo originated as a form of emergency first aid, in answer to the question: What to do until the mathematician arrives?_ — George Dyson\n",
        "\n",
        "> Monte Carlo methods (or Monte Carlo experiments) are a broad class of computational algorithms that rely on repeated random sampling to obtain numerical results. They are often used in physical and mathematical problems and are most useful when it is difficult or impossible to use other mathematical methods. Monte Carlo methods are mainly used in three distinct problem classes: optimization, numerical integration, and generating draws from a probability distribution. — [Wikipedia](https://en.wikipedia.org/wiki/Monte_Carlo_method)"
      ]
    },
    {
      "cell_type": "markdown",
      "metadata": {
        "id": "8cSAYmWqq3Z6"
      },
      "source": [
        "### Example, the normal distribution"
      ]
    },
    {
      "cell_type": "code",
      "execution_count": null,
      "metadata": {
        "id": "ltfBNlPeq3Z8",
        "outputId": "5de0fd77-65da-4199-a2eb-c502e5c94b65"
      },
      "outputs": [
        {
          "data": {
            "image/png": "[encoded data removed]",
            "text/plain": [
              "<matplotlib.figure.Figure at 0x10f13c4a8>"
            ]
          },
          "metadata": {},
          "output_type": "display_data"
        },
        {
          "data": {
            "text/plain": [
              "<function python.f01.plot_norm>"
            ]
          },
          "execution_count": 1,
          "metadata": {},
          "output_type": "execute_result"
        }
      ],
      "source": [
        "from python.f01 import *\n",
        "%matplotlib inline\n",
        "\n",
        "interact(plot_norm)"
      ]
    },
    {
      "cell_type": "markdown",
      "metadata": {
        "id": "IwiudPvFq3aB"
      },
      "source": [
        "## 'Rule based' modelling\n",
        "\n",
        "We're worried about the survival of dolphins due to reducing fish stocks.\n",
        "We have an estimate for the number of fish a dolphin consumes in one day (from observational evidence).\n",
        "We also know the proportion of the types of food dolphins consume, and the average calorific value of each fish.\n",
        "\n",
        "![Dolphin](images/01_dolphin.png)\n",
        "\n",
        "Food     | Probability    | Calories\n",
        "---------| -------------- | --------\n",
        "Herring  | $\\frac{6}{20}$ | 45 kcal\n",
        "Mackerel | $\\frac{4}{20}$ | 200 kcal\n",
        "Sardine  | $\\frac{9}{20}$ | 25 kcal\n",
        "Squid    | $\\frac{1}{20}$ | 175 kcal"
      ]
    },
    {
      "cell_type": "code",
      "execution_count": null,
      "metadata": {
        "id": "-c6ugeW1q3aE",
        "outputId": "b84b8e14-8fa0-46e9-a60d-9998c441057e"
      },
      "outputs": [
        {
          "data": {
            "image/png": "[encoded data removed]",
            "text/plain": [
              "<matplotlib.figure.Figure at 0x10f2907b8>"
            ]
          },
          "metadata": {},
          "output_type": "display_data"
        },
        {
          "data": {
            "image/png": "[encoded data removed]",
            "text/plain": [
              "<matplotlib.figure.Figure at 0x10c9d3208>"
            ]
          },
          "metadata": {},
          "output_type": "display_data"
        },
        {
          "name": "stdout",
          "output_type": "stream",
          "text": [
            "Mean intake: 1469\n",
            "Std. Dev.:   455\n"
          ]
        }
      ],
      "source": [
        "n_individuals = 10000\n",
        "\n",
        "# generate number of fish in each diet\n",
        "exp_fish = 20\n",
        "n_fish = np.random.poisson(exp_fish, size=n_individuals)\n",
        "\n",
        "# plot histogram of number of fish consumed\n",
        "plot_n_fish(n_fish)\n",
        "\n",
        "# assign fish to diet based on probabilities\n",
        "fish  = ['herring', 'mackerel', 'sardine', 'squid']\n",
        "prob  = [0.3,       0.2,        0.45,       0.05]\n",
        "diets = [list(np.random.choice(fish, p=prob, size=n)) for n in n_fish]\n",
        "\n",
        "# calculate calories\n",
        "calories = {'herring': 45, 'mackerel': 200,\n",
        "            'sardine':25, 'squid': 175}\n",
        "intakes = [sum(calories[f] for f in diet) for diet in diets]\n",
        "\n",
        "# plot histogram\n",
        "plot_intakes(intakes)\n",
        "\n",
        "print(\"Mean intake: %d\" % np.mean(intakes))\n",
        "print(\"Std. Dev.:   %d\" % np.std(intakes))"
      ]
    },
    {
      "cell_type": "markdown",
      "metadata": {
        "id": "in7W97r2q3aI"
      },
      "source": [
        "## Exercise, Hermit crabs"
      ]
    },
    {
      "cell_type": "code",
      "execution_count": null,
      "metadata": {
        "scrolled": true,
        "id": "lUJlhXgSq3aK",
        "outputId": "b083a7c6-45fe-4cad-ef13-f2d841ce1ef2"
      },
      "outputs": [
        {
          "data": {
            "text/html": [
              "\n",
              "        <iframe\n",
              "            width=\"600\"\n",
              "            height=\"400\"\n",
              "            src=\"https://www.youtube.com/embed/rLUAoTjdmZ8\"\n",
              "            frameborder=\"0\"\n",
              "            allowfullscreen\n",
              "        ></iframe>\n",
              "        "
            ],
            "text/plain": [
              "<IPython.lib.display.YouTubeVideo at 0x10ca6bf28>"
            ]
          },
          "execution_count": 3,
          "metadata": {},
          "output_type": "execute_result"
        }
      ],
      "source": [
        "# https://youtu.be/rLUAoTjdmZ8\n",
        "from IPython.display import YouTubeVideo\n",
        "YouTubeVideo(\"rLUAoTjdmZ8\", width=600, height=400)"
      ]
    },
    {
      "cell_type": "markdown",
      "metadata": {
        "id": "etpHAQRhq3aN"
      },
      "source": [
        "# Notebook setup"
      ]
    },
    {
      "cell_type": "code",
      "execution_count": null,
      "metadata": {
        "id": "qlUWmHeoq3aO",
        "outputId": "43bfe7eb-b55d-4c65-d0d3-204daf95c0d0"
      },
      "outputs": [
        {
          "data": {
            "text/html": [
              "<style>\n",
              "\t@import url(http://fonts.googleapis.com/css?family=Lora:400,700,400italic,700italic);\n",
              "\t@import url(http://fonts.googleapis.com/css?family=Source+Code+Pro:300,400,600);\n",
              "\n",
              "\th1, h2, h3, h4, h5, h6 {\n",
              "\t  color: #333 !important;\n",
              "\t  margin-bottom: 1rem !important;\n",
              "\t  font-weight: bold !important;\n",
              "\t}\n",
              "\n",
              "\th1 { font-size: 200% !important; }\n",
              "\th2 { font-size: 180% !important; }\n",
              "\th3 { font-size: 160% !important; }\n",
              "\th4 { font-size: 140% !important; }\n",
              "\th5 { font-size: 120% !important; }\n",
              "\th6 { font-size: 100% !important; }\n",
              "\n",
              "\tdiv.text_cell_render {\n",
              "\t\tfont-family: 'Lora' !important;\n",
              "\t\tfont-size: 12pt !important;\n",
              "\t}\n",
              "\n",
              "\tdiv.prompt {\n",
              "\t\tdisplay: none;\n",
              "\t}\n",
              "\n",
              "\tdiv.input_area {\n",
              "\t\tbackground: #F1F1F1 !important;\n",
              "\t\tborder: 0px !important;\n",
              "\t}\n",
              "\n",
              "\tdiv.input_area .CodeMirror {\n",
              "\t\tfont-family: 'Source Code Pro' !important;\n",
              "\t\tfont-size: 12pt !important;\n",
              "\t\twhite-space: nowrap !important;\n",
              "\t}\n",
              "\n",
              "\tdiv.output_area {\n",
              "\t\tfont-family: 'Source Code Pro' !important;\n",
              "\t\tfont-size: 12pt !important;\n",
              "\t}\n",
              "\n",
              "\t.cell {\n",
              "\t\tmargin-bottom: 10px !important;\n",
              "\t}\n",
              "\n",
              "\tspan.cm-comment {\n",
              "\t  color: #666 !important;\n",
              "\t\tfont-weight: 300 !important;\n",
              "\t\tfont-style: normal !important;\n",
              "\t}\n",
              "\n",
              "\tspan.ansicyan,\n",
              "\tspan.cm-keyword,\n",
              "\tspan.cm-operator,\n",
              "\tspan.cm-builtin,\n",
              "\tspan.cm-operator,\n",
              "\tspan.cm-def,\n",
              "\tspan.cm-header {\n",
              "\t\tcolor: #1988B7 !important;\n",
              "\t}\n",
              "\n",
              "\tspan.cm-keyword {\n",
              "\t\tfont-weight: 600 !important;\n",
              "\t}\n",
              "\n",
              "\tspan.ansiyellow,\n",
              "\tspan.cm-property,\n",
              "\tspan.cm-attribute,\n",
              "\tspan.cm-link {\n",
              "\t\tcolor: #C9B30A !important;\n",
              "\t}\n",
              "\n",
              "\tspan.ansigreen,\n",
              "\tspan.cm-quote {\n",
              "\t\tcolor: #649102 !important;\n",
              "\t}\n",
              "\n",
              "\tspan.cm-string,\n",
              "\tspan.cm-number {\n",
              "\t\tcolor: #C64F00 !important;\n",
              "\t}\n",
              "\n",
              "\tspan.cm-variable,\n",
              "\tspan.cm-variable-2,\n",
              "\tspan.cm-bracket,\n",
              "\tspan.cm-tag {\n",
              "\t\tcolor: black !important;\n",
              "\t}\n",
              "\n",
              "\tspan.ansired,\n",
              "\tspan.cm-error {\n",
              "\t\tcolor: #B22600 !important;\n",
              "\t}\n",
              "\n",
              "\t.CodeMirror-matchingbracket {\n",
              "\t    font-weight: 600;\n",
              "\t    color: black !important;\n",
              "\t\t\tbackground: #ccc;\n",
              "\t\t\tborder-radius: 2px;\n",
              "\t}\n",
              "\n",
              "</style>\n"
            ],
            "text/plain": [
              "<IPython.core.display.HTML object>"
            ]
          },
          "execution_count": 4,
          "metadata": {},
          "output_type": "execute_result"
        }
      ],
      "source": [
        "# Jupyter notebook setup\n",
        "from IPython.core.display import HTML\n",
        "HTML(open(\"../styles/custom.css\", \"r\").read())"
      ]
    }
  ],
  "metadata": {
    "kernelspec": {
      "display_name": "Python 2",
      "language": "python",
      "name": "python2"
    },
    "language_info": {
      "codemirror_mode": {
        "name": "ipython",
        "version": 2
      },
      "file_extension": ".py",
      "mimetype": "text/x-python",
      "name": "python",
      "nbconvert_exporter": "python",
      "pygments_lexer": "ipython2",
      "version": "2.7.16"
    },
    "colab": {
      "name": "01_An_introduction_to_modelling.ipynb",
      "provenance": [],
      "include_colab_link": true
    }
  },
  "nbformat": 4,
  "nbformat_minor": 0
}